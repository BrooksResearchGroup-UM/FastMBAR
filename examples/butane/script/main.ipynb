{
 "cells": [
  {
   "cell_type": "markdown",
   "metadata": {},
   "source": [
    "# Compute PMF of butane dihedral with umbrella sampling and FastMBAR"
   ]
  },
  {
   "cell_type": "code",
   "execution_count": 47,
   "metadata": {},
   "outputs": [],
   "source": [
    "## import required packages\n",
    "import os, math, sys\n",
    "import numpy as np\n",
    "import matplotlib.pyplot as plt\n",
    "import simtk.openmm.app  as omm_app\n",
    "import simtk.openmm as omm\n",
    "import simtk.unit as unit\n",
    "from tqdm import tqdm\n",
    "import mdtraj\n",
    "from FastMBAR import *"
   ]
  },
  {
   "cell_type": "markdown",
   "metadata": {},
   "source": [
    "**NOTE:** The following commands use relative directory pathees and assume that the current working directory is FastMBAR/examples/butane. Therefore, the current working directory has to be changed into FastMBAR/example/butane before running the following commands."
   ]
  },
  {
   "cell_type": "code",
   "execution_count": 16,
   "metadata": {},
   "outputs": [
    {
     "name": "stdout",
     "output_type": "stream",
     "text": [
      "current working directory: /Users/dingxq/Google Drive/ProjectsOnGitHub/FastMBAR/examples/butane\n"
     ]
    }
   ],
   "source": [
    "## change the working directory into ./examples/butane\n",
    "#os.chdir(\"./butane\")\n",
    "print(\"current working directory: {}\".format(os.getcwd()))\n",
    "assert os.getcwd()[-7:] == \"/butane\", ( \n",
    "       f\"Error: your current working directory is {os.getcwd()}!\"\n",
    "        \"You need to change working directory to ./examples/butane.\"\n",
    "       )"
   ]
  },
  {
   "cell_type": "markdown",
   "metadata": {},
   "source": [
    "## 1. Construct an OpenMM system of butane\n",
    "Because we are using OpenMM as our MD engine, we need to setup the\n",
    "MD molecular system in the format required by OpenMM. The format/object\n",
    "used by OpenMM for a molecular system happens to be a class called [System](http://docs.openmm.org/latest/api-python/generated/simtk.openmm.openmm.System.html#simtk.openmm.openmm.System).\n",
    "Therefore, we will prepare our MD molecular system as an OpenMM System.\n",
    "When we prepare the OpenMM system, we add a [CustomTorsionForce](http://docs.openmm.org/latest/api-python/generated/simtk.openmm.openmm.CustomTorsionForce.html#simtk.openmm.openmm.CustomTorsionForce) so\n",
    "that we can add biasing potentials to the system in the following umbrella\n",
    "sampling."
   ]
  },
  {
   "cell_type": "markdown",
   "metadata": {},
   "source": [
    "Read **psf** and **pdb** files of butane: butane.psf and butane.pdb.\n",
    "The psf file, butane.psf, contains topolgy of butane and it is the topolgy file format used by CHARMM.\n",
    "The psf file, butane.psf, used here is generated using CHARMM.\n",
    "In your study, you usually alreay have a pdb file of your system. \n",
    "You can generate the topology file of your system using various MD softwares such as CHARMM, Gromacs and Amber among others. Just note that different softwares use different format for topology files and OpenMM has \n",
    "several parser for topology files with different foramt."
   ]
  },
  {
   "cell_type": "code",
   "execution_count": 27,
   "metadata": {},
   "outputs": [],
   "source": [
    "psf = omm_app.CharmmPsfFile('./data/butane.psf')\n",
    "pdb = omm_app.PDBFile('./data/butane.pdb')"
   ]
  },
  {
   "cell_type": "markdown",
   "metadata": {},
   "source": [
    "Read CHARMM force field for butane. The CHARMM force field is downloaded from [here](http://mackerell.umaryland.edu/charmm_ff.shtml)"
   ]
  },
  {
   "cell_type": "code",
   "execution_count": 28,
   "metadata": {},
   "outputs": [],
   "source": [
    "params = omm_app.CharmmParameterSet('./data/top_all35_ethers.rtf',\n",
    "                                    './data/par_all35_ethers.prm')"
   ]
  },
  {
   "cell_type": "markdown",
   "metadata": {},
   "source": [
    "Create a OpenMM system based on the psf file of butane and the CHARMM force field.\n",
    "Then a harmonic biasing potential for butane dihedral (3-6-9-13)is added to the system so that we can use the biasing potential in the following umbrella sampling.\n",
    "Adding a biasing potential to a system is very easy in OpenMM. \n",
    "We don't have to change any source code of OpenMM. All we need to do is to tell OpenMM the formula of the biasing potential and degree of freedome we want to add the biasing potential to."
   ]
  },
  {
   "cell_type": "code",
   "execution_count": 20,
   "metadata": {},
   "outputs": [
    {
     "data": {
      "text/plain": [
       "8"
      ]
     },
     "execution_count": 20,
     "metadata": {},
     "output_type": "execute_result"
    }
   ],
   "source": [
    "## creay an OpenMM system\n",
    "system = psf.createSystem(params, nonbondedMethod=omm_app.NoCutoff)\n",
    "\n",
    "## add a harmonic biasing potential on butane dihedral to the OpenMM system\n",
    "bias_torsion = omm.CustomTorsionForce(\"0.5*K*dtheta^2; dtheta = min(diff, 2*Pi-diff); diff = abs(theta - theta0)\")\n",
    "bias_torsion.addGlobalParameter(\"Pi\", math.pi)\n",
    "bias_torsion.addGlobalParameter(\"K\", 1.0)\n",
    "bias_torsion.addGlobalParameter(\"theta0\", 0.0)\n",
    "## 3, 6, 9, 13 are indices of the four carton atoms in butane, between which\n",
    "## the dihedral angle is biased.\n",
    "bias_torsion.addTorsion(3, 6, 9, 13)\n",
    "system.addForce(bias_torsion)"
   ]
  },
  {
   "cell_type": "markdown",
   "metadata": {},
   "source": [
    "After constructing the OpenMM system of butane, we can save it in an XML formated text file, which can be used later for simulations. Therefore, if we want to use the same system in another script, we can just read the text file in an OpenMM system instead of constructing it again.\n",
    "You can even open the XML formated text file using a text editor and see what information about the system is included in the XML file."
   ]
  },
  {
   "cell_type": "code",
   "execution_count": 21,
   "metadata": {},
   "outputs": [],
   "source": [
    "## save the OpenMM system of butane\n",
    "with open(\"./output/system.xml\", 'w') as file_handle:\n",
    "    file_handle.write(omm.XmlSerializer.serialize(system))"
   ]
  },
  {
   "cell_type": "markdown",
   "metadata": {},
   "source": [
    "## 2. Run umbrella sampling\n",
    "We run umbrella sampling for the butane dihedral (atom indices: 3-6-9-13).\n",
    "The dihedral is split into multiple windows and in each window, the dihedral\n",
    "is restrainted around a center using a harmonic biasing potential. In this\n",
    "script, we run simulations in each window sequentially, but they can be run in\n",
    "parallel if you have a computer cluster with multiple nodes."
   ]
  },
  {
   "cell_type": "code",
   "execution_count": 22,
   "metadata": {},
   "outputs": [],
   "source": [
    "## read the OpenMM system of butane\n",
    "with open(\"./output/system.xml\", 'r') as file_handle:\n",
    "    xml = file_handle.read()\n",
    "system = omm.XmlSerializer.deserialize(xml)\n",
    "\n",
    "## read psf and pdb file of butane\n",
    "psf = omm_app.CharmmPsfFile(\"./data/butane.psf\")\n",
    "pdb = omm_app.PDBFile('./data/butane.pdb')"
   ]
  },
  {
   "cell_type": "markdown",
   "metadata": {},
   "source": [
    "In order to run simulations in OpenMM, we need to construct an OpenMM context, which consists of a system, an integrator and a platform.\n",
    "The system is just the butane system we have constructed above.\n",
    "The integrator specifies what kind integration method we should use. Here, we will use Langevin dynamics for NVP ensemble simulation, which corresponds to the OpenMM.LangevinIntegrator.\n",
    "The platform specifies what kind of hardware we will run simulation on. Here, we choose to use CPUs because the size of the system is quite small."
   ]
  },
  {
   "cell_type": "code",
   "execution_count": 31,
   "metadata": {},
   "outputs": [],
   "source": [
    "#### setup an OpenMM context\n",
    "\n",
    "## platform\n",
    "platform = omm.Platform.getPlatformByName('CPU')\n",
    "\n",
    "## intergrator\n",
    "T = 298.15 * unit.kelvin  ## temperature\n",
    "fricCoef = 10/unit.picoseconds ## friction coefficient \n",
    "stepsize = 1 * unit.femtoseconds ## integration step size\n",
    "integrator = omm.LangevinIntegrator(T, fricCoef, stepsize)\n",
    "\n",
    "## construct an OpenMM context\n",
    "context = omm.Context(system, integrator, platform)"
   ]
  },
  {
   "cell_type": "markdown",
   "metadata": {},
   "source": [
    "Here we set the force constant and centers for the harmonic biasing potentials on butane dihedral."
   ]
  },
  {
   "cell_type": "code",
   "execution_count": 34,
   "metadata": {},
   "outputs": [],
   "source": [
    "## set force constant K for the biasing potential. \n",
    "## the unit here is kJ*mol^{-1}*nm^{-2}, which is the default unit used in OpenMM\n",
    "K = 100\n",
    "context.setParameter(\"K\", K)\n",
    "\n",
    "## M centers of harmonic biasing potentials\n",
    "M = 5\n",
    "theta0 = np.linspace(-math.pi, math.pi, M, endpoint = False)\n",
    "np.savetxt(\"./output/theta0.csv\", theta0, delimiter = \",\")"
   ]
  },
  {
   "cell_type": "markdown",
   "metadata": {},
   "source": [
    "The following loop is used to run umbrella sampling window by window.\n",
    "In each iteration, we first set the center of the harmonic biasing potential.\n",
    "Then the configuration of butane is minimized and equilibrated with the biasing potential.\n",
    "After initial equilibration, configurations are sampled and saved."
   ]
  },
  {
   "cell_type": "code",
   "execution_count": 35,
   "metadata": {},
   "outputs": [
    {
     "name": "stdout",
     "output_type": "stream",
     "text": [
      "sampling at theta0 index: 0 out of 5\n"
     ]
    },
    {
     "name": "stderr",
     "output_type": "stream",
     "text": [
      "100%|██████████| 1000/1000 [00:21<00:00, 47.27it/s]\n"
     ]
    },
    {
     "name": "stdout",
     "output_type": "stream",
     "text": [
      "sampling at theta0 index: 1 out of 5\n"
     ]
    },
    {
     "name": "stderr",
     "output_type": "stream",
     "text": [
      "100%|██████████| 1000/1000 [00:21<00:00, 46.53it/s]\n"
     ]
    },
    {
     "name": "stdout",
     "output_type": "stream",
     "text": [
      "sampling at theta0 index: 2 out of 5\n"
     ]
    },
    {
     "name": "stderr",
     "output_type": "stream",
     "text": [
      "100%|██████████| 1000/1000 [00:21<00:00, 47.05it/s]\n"
     ]
    },
    {
     "name": "stdout",
     "output_type": "stream",
     "text": [
      "sampling at theta0 index: 3 out of 5\n"
     ]
    },
    {
     "name": "stderr",
     "output_type": "stream",
     "text": [
      "100%|██████████| 1000/1000 [00:21<00:00, 47.19it/s]\n"
     ]
    },
    {
     "name": "stdout",
     "output_type": "stream",
     "text": [
      "sampling at theta0 index: 4 out of 5\n"
     ]
    },
    {
     "name": "stderr",
     "output_type": "stream",
     "text": [
      "100%|██████████| 1000/1000 [00:21<00:00, 47.22it/s]\n"
     ]
    }
   ],
   "source": [
    "## the main loop to run umbrella sampling window by window\n",
    "for theta0_index in range(M):\n",
    "    print(f\"sampling at theta0 index: {theta0_index} out of {M}\")\n",
    "\n",
    "    ## set the center of the biasing potential\n",
    "    context.setParameter(\"theta0\", theta0[theta0_index])\n",
    "\n",
    "    ## minimize\n",
    "    context.setPositions(pdb.positions)\n",
    "    state = context.getState(getEnergy = True)\n",
    "    energy = state.getPotentialEnergy()\n",
    "    for i in range(50):\n",
    "        omm.LocalEnergyMinimizer_minimize(context, 1, 20)\n",
    "        state = context.getState(getEnergy = True)\n",
    "        energy = state.getPotentialEnergy()\n",
    "\n",
    "    ## initial equilibrium\n",
    "    integrator.step(5000)\n",
    "\n",
    "    ## sampling production. trajectories are saved in dcd files\n",
    "    file_handle = open(f\"./output/traj/traj_{theta0_index}.dcd\", 'bw')\n",
    "    dcd_file = omm_app.dcdfile.DCDFile(file_handle, psf.topology, dt = stepsize)\n",
    "    for i in tqdm(range(1000)):\n",
    "        integrator.step(100)\n",
    "        state = context.getState(getPositions = True)\n",
    "        positions = state.getPositions()\n",
    "        dcd_file.writeModel(positions)\n",
    "    file_handle.close()"
   ]
  },
  {
   "cell_type": "markdown",
   "metadata": {},
   "source": [
    "## 3. Compute and collect the butane dihedral values\n",
    "For configurations in trajectories sampled using umbrella sampling, we compute the butane dihedral and\n",
    "save them in csv files. The dihedral is between four atoms with indices of 3, 6, 9, and 13. \n",
    "Here we use the Python package mdtraj to compute dihedrals."
   ]
  },
  {
   "cell_type": "code",
   "execution_count": 43,
   "metadata": {},
   "outputs": [],
   "source": [
    "topology = mdtraj.load_psf(\"./data/butane.psf\")\n",
    "for theta0_index in range(M):\n",
    "    traj = mdtraj.load_dcd(f\"./output/traj/traj_{theta0_index}.dcd\", topology)\n",
    "    theta = mdtraj.compute_dihedrals(traj, [[3, 6, 9, 13]])\n",
    "    np.savetxt(f\"./output/dihedral/dihedral_{theta0_index}.csv\", theta, fmt = \"%.5f\", delimiter = \",\")"
   ]
  },
  {
   "cell_type": "markdown",
   "metadata": {},
   "source": [
    "## 4. Use FastMBAR to solve MBAR/UWHAM equations and compute the PMF"
   ]
  },
  {
   "cell_type": "code",
   "execution_count": 45,
   "metadata": {},
   "outputs": [
    {
     "name": "stdout",
     "output_type": "stream",
     "text": [
      "solve MBAR equation using CPU\n"
     ]
    }
   ],
   "source": [
    "thetas = []\n",
    "num_conf = []\n",
    "for theta0_index in range(M):\n",
    "    theta = np.loadtxt(f\"./output/dihedral/dihedral_{theta0_index}.csv\", delimiter = \",\")\n",
    "    thetas.append(theta)\n",
    "    num_conf.append(len(theta))\n",
    "thetas = np.concatenate(thetas)\n",
    "num_conf = np.array(num_conf).astype(np.float64)\n",
    "N = len(thetas)\n",
    "\n",
    "reduced_energy_matrix = np.zeros((M, N))\n",
    "K = 100\n",
    "T = 298.15 * unit.kelvin\n",
    "kbT = unit.BOLTZMANN_CONSTANT_kB * 298.15 * unit.kelvin * unit.AVOGADRO_CONSTANT_NA\n",
    "kbT = kbT.value_in_unit(unit.kilojoule_per_mole)\n",
    "\n",
    "theta0 = np.loadtxt(\"./output/theta0.csv\", delimiter = \",\")\n",
    "\n",
    "for theta0_index in range(M):\n",
    "    current_theta0 = theta0[theta0_index]\n",
    "    diff = np.abs(thetas - current_theta0)\n",
    "    diff = np.minimum(diff, 2*math.pi-diff)\n",
    "    reduced_energy_matrix[theta0_index, :] = 0.5*K*diff**2/kbT\n",
    "\n",
    "fastmbar = FastMBAR(energy = reduced_energy_matrix, num_conf = num_conf, cuda=False, verbose = True)\n",
    "#print(fastmbar.F)"
   ]
  },
  {
   "cell_type": "code",
   "execution_count": 49,
   "metadata": {},
   "outputs": [
    {
     "data": {
      "image/png": "[encoded data removed]",
      "text/plain": [
       "<Figure size 432x288 with 1 Axes>"
      ]
     },
     "metadata": {
      "needs_background": "light"
     },
     "output_type": "display_data"
    }
   ],
   "source": [
    "M_PMF = 25\n",
    "theta_PMF = np.linspace(-math.pi, math.pi, M_PMF, endpoint = False)\n",
    "width = 2*math.pi / M_PMF\n",
    "reduced_energy_PMF = np.zeros((M_PMF, N))\n",
    "\n",
    "for i in range(M_PMF):\n",
    "    theta_center = theta_PMF[i]\n",
    "    theta_low = theta_center - 0.5*width\n",
    "    theta_high = theta_center + 0.5*width\n",
    "\n",
    "    indicator = ((thetas > theta_low) & (thetas <= theta_high)) | \\\n",
    "                 ((thetas + 2*math.pi > theta_low) & (thetas + 2*math.pi <= theta_high)) | \\\n",
    "                 ((thetas - 2*math.pi > theta_low) & (thetas - 2*math.pi <= theta_high))\n",
    "\n",
    "    reduced_energy_PMF[i, ~indicator] = np.inf\n",
    "\n",
    "PMF, _ = fastmbar.calculate_free_energies_of_perturbed_states(reduced_energy_PMF)\n",
    "\n",
    "fig = plt.figure(0)\n",
    "fig.clf()\n",
    "plt.plot(theta_PMF, PMF, '-o')\n",
    "plt.savefig(\"./output/PMF_fast_mbar.pdf\")"
   ]
  },
  {
   "cell_type": "code",
   "execution_count": null,
   "metadata": {},
   "outputs": [],
   "source": []
  }
 ],
 "metadata": {
  "kernelspec": {
   "display_name": "Python 3",
   "language": "python",
   "name": "python3"
  },
  "language_info": {
   "codemirror_mode": {
    "name": "ipython",
    "version": 3
   },
   "file_extension": ".py",
   "mimetype": "text/x-python",
   "name": "python",
   "nbconvert_exporter": "python",
   "pygments_lexer": "ipython3",
   "version": "3.7.3"
  }
 },
 "nbformat": 4,
 "nbformat_minor": 2
}
